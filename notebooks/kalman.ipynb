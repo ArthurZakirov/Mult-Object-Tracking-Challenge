{
 "cells": [
  {
   "cell_type": "code",
   "execution_count": 27,
   "metadata": {},
   "outputs": [],
   "source": [
    "from PIL import Image\n",
    "import json\n",
    "import torchvision.transforms.functional as TF\n",
    "import torch\n",
    "import torchvision\n",
    "import matplotlib.pyplot as plt\n",
    "from matplotlib.patches import Rectangle\n",
    "from src.detector.utils import binary_mask_iou\n",
    "from src.detector.utils import box_nms, mask_nms\n",
    "from src.tracker.data_track_precomputed import MOT16SequencesPrecomputed\n",
    "from src.utils.torch_utils import dict2keys_and_items\n",
    "from src.detector.visualize import visualize_detection\n",
    "from src.detector.object_detector import init_detector\n",
    "from src.detector.data_obj_detect import MOT16ObjDetect\n",
    "from src.detector.utils import obj_detect_transforms\n",
    "from src.motion_prediction.dataset import MOT16MotionPrediction\n",
    "\n",
    "root = \"data/MOT16\"\n",
    "split = \"mini\"\n",
    "det1_path = \"data/precomputed_detection/coco_maskrcnn100\"\n",
    "det2_path = \"data/precomputed_detection/coco_maskrcnn100_masknms20\"\n",
    "\n",
    "\n",
    "dataset = MOT16MotionPrediction(root, split, processed=False, future_len=20, history_len=20)\n",
    "\n"
   ]
  },
  {
   "cell_type": "code",
   "execution_count": 28,
   "metadata": {},
   "outputs": [],
   "source": [
    "from src.motion_prediction.kalman import SORTKalmanFilter\n",
    "import numpy as np"
   ]
  },
  {
   "cell_type": "code",
   "execution_count": 32,
   "metadata": {},
   "outputs": [
    {
     "data": {
      "text/plain": [
       "<matplotlib.legend.Legend at 0x29c074f4070>"
      ]
     },
     "execution_count": 32,
     "metadata": {},
     "output_type": "execute_result"
    },
    {
     "data": {
      "image/png": "[encoded data removed]",
      "text/plain": [
       "<Figure size 432x288 with 1 Axes>"
      ]
     },
     "metadata": {
      "needs_background": "light"
     },
     "output_type": "display_data"
    }
   ],
   "source": [
    "kalman = SORTKalmanFilter()\n",
    "hist, fut = dataset[1000]\n",
    "smooth_traj = []\n",
    "for box in hist:\n",
    "    kalman.update(box)\n",
    "    smooth = kalman.predict()\n",
    "    smooth_traj.append(smooth)\n",
    "smooth_traj = torch.stack(smooth_traj, dim=0)\n",
    "\n",
    "plt.plot(hist[:, 0], hist[:, 1], label=\"original\")\n",
    "plt.plot(smooth_traj[:, 0], smooth_traj[:, 1], label=\"smooth\")\n",
    "plt.axis(\"equal\");\n",
    "plt.legend(loc=\"best\")"
   ]
  }
 ],
 "metadata": {
  "interpreter": {
   "hash": "baed9b6b162aa45400c1f6f8e8b953cc621cc8f25bcb3799f89f5a2556aea4e5"
  },
  "kernelspec": {
   "display_name": "Python (DL_env)",
   "language": "python",
   "name": "python3"
  },
  "language_info": {
   "codemirror_mode": {
    "name": "ipython",
    "version": 3
   },
   "file_extension": ".py",
   "mimetype": "text/x-python",
   "name": "python",
   "nbconvert_exporter": "python",
   "pygments_lexer": "ipython3",
   "version": "3.9.7"
  },
  "orig_nbformat": 4
 },
 "nbformat": 4,
 "nbformat_minor": 2
}
