{
 "cells": [
  {
   "cell_type": "code",
   "execution_count": 14,
   "metadata": {},
   "outputs": [],
   "source": [
    "import pandas as pd\n",
    "import os\n",
    "import numpy as np\n",
    "from src.tracker.data_track import load_detection_from_txt\n",
    "sequence_dir = \"results\\\\tracker\\\\07-04-2022_18-30\\\\MOT16-02\"\n",
    "events_path = os.path.join(sequence_dir, \"events.csv\")\n",
    "events_df = pd.read_csv(events_path)\n",
    "track_path = os.path.join(sequence_dir, \"track.txt\")\n",
    "track = load_detection_from_txt(track_path, vis_threshold=0.0, mode=\"track\")\n",
    "\n",
    "\n",
    "from src.tracker.data_track_precomputed import MOT16SequencePrecomputed\n",
    "from src.tracker.tracker import MyTracker\n",
    "import json\n",
    "import argparse\n",
    "eval_config_path = os.path.join(\n",
    "    os.path.dirname(sequence_dir), \"eval_config.json\"\n",
    ")\n",
    "with open(eval_config_path, \"r\") as f:\n",
    "    eval_config = json.load(f)\n",
    "args = argparse.Namespace(**eval_config)\n",
    "\n",
    "with open(args.tracker_config_path, \"r\") as f:\n",
    "    tracker_hyperparams = json.load(f)\n",
    "\n",
    "tracker = MyTracker.from_config(tracker_hyperparams)\n",
    "\n",
    "seq_name = os.path.basename(sequence_dir)\n",
    "sequence = MOT16SequencePrecomputed(\n",
    "    seq_name=seq_name,\n",
    "    original_data_root_dir=args.original_data_root_dir,\n",
    "    precomputed_seq_dir=os.path.join(\n",
    "        args.precomputed_data_root_dir, seq_name\n",
    "    ),\n",
    "    vis_threshold=args.vis_threshold,\n",
    "    return_det_segmentation=tracker.assign_model.use_segmentation,\n",
    "    return_gt_segmentation=tracker.assign_model.use_segmentation,\n",
    "    return_statistical_info=True\n",
    ")\n"
   ]
  },
  {
   "cell_type": "code",
   "execution_count": 15,
   "metadata": {},
   "outputs": [],
   "source": [
    "from src.tracker.tracking_analysis import find_fp, find_tp, find_misses, find_switches\n",
    "\n",
    "fp_sequences = find_fp(events_df)\n",
    "num_fp = len([idx for seq in fp_sequences for idx in seq])\n",
    "\n",
    "miss_sequences, last_match_sequences = find_misses(events_df)\n",
    "not_empty_last_match_sequences = [seq for seq in last_match_sequences if seq]\n",
    "lost_track_sequences = [miss_seq for (miss_seq, last_match_seq) in zip(miss_sequences, last_match_sequences) if last_match_seq]\n",
    "inherent_miss_sequences = [miss_seq for (miss_seq, last_match_seq) in zip(miss_sequences, last_match_sequences) if not last_match_seq]\n",
    "num_miss = len([idx for seq in miss_sequences for idx in seq])\n",
    "\n",
    "\n",
    "switch_idxs, last_match_idxs, ascend_bool, active_switch_bool = find_switches(events_df)\n",
    "num_switch = len(switch_idxs)\n",
    "num_ascend = len([boolean for boolean in ascend_bool if boolean])\n",
    "num_ascend / num_switch\n",
    "num_active_switch = len([boolean for boolean in active_switch_bool if boolean])\n",
    "num_active_switch / num_switch\n",
    "\n",
    "num_hypotheses = len(events_df.dropna(subset=\"HId\"))\n",
    "num_objects = len(events_df.dropna(subset=\"OId\"))\n",
    "num_tp = num_hypotheses - num_fp \n",
    "precision = num_tp / (num_tp + num_fp)\n",
    "recall = num_tp / (num_tp + num_miss)\n",
    "rel_switch = num_switch / num_tp\n"
   ]
  },
  {
   "cell_type": "code",
   "execution_count": 3,
   "metadata": {},
   "outputs": [],
   "source": [
    "def split_sequences_by_visibility(sequence, events_df, idx_sequences, vis_threshold):\n",
    "    split_sequences ={\"visible\":[], \"invisible\":[]}\n",
    "    for idxs in idx_sequences:\n",
    "        vis = item_of_mot_event(sequence, events_df, idxs[0], key=\"vis\")\n",
    "        if vis > vis_threshold:\n",
    "            split_sequences[\"visible\"].append(idxs)\n",
    "        else:\n",
    "            split_sequences[\"invisible\"].append(idxs)\n",
    "    return split_sequences\n",
    "\n",
    "def item_of_mot_event(sequence, events_df, df_idx, key=\"vis\"):\n",
    "    frame_id = events_df.loc[df_idx, \"FrameId\"]\n",
    "    oid = events_df.loc[df_idx, \"OId\"]\n",
    "    if key == \"img\":\n",
    "        item = sequence[frame_id][key]\n",
    "    else:\n",
    "        item = sequence[frame_id][key][oid]\n",
    "    return item\n",
    "\n",
    "\n",
    "def miss_analysis_chart(sequence, events_df, lost_track_sequences, inherent_miss_sequences, vis_threshold=0.0, count_event=\"per_sequence\"):    \n",
    "    \"\"\"\n",
    "    count_event\n",
    "\n",
    "        \"per_sequence\"\n",
    "        One way is to count a sequence of misses on one object as one single miss. \n",
    "        This is useful in terms of error reason analysis.\n",
    "\n",
    "        \"per_frame\"\n",
    "        The other way is to count a sequence of misses multiplied by the length of the sequence.\n",
    "        This is less useful, but it corresponds to the MOTA metric, which counts events per frame.\n",
    "    \"\"\"\n",
    "\n",
    "    lost_track_sequences_split = split_sequences_by_visibility(sequence, events_df, lost_track_sequences, vis_threshold)\n",
    "    inherent_miss_sequences_split = split_sequences_by_visibility(sequence, events_df, inherent_miss_sequences, vis_threshold)\n",
    "    if count_event == \"per_sequence\":\n",
    "        num_lost_track_miss_vis = len(lost_track_sequences_split[\"visible\"])\n",
    "        num_lost_track_miss_invis = len(lost_track_sequences_split[\"invisible\"])\n",
    "        num_inherent_miss_vis = len(inherent_miss_sequences_split[\"visible\"])\n",
    "        num_inherent_miss_invis = len(inherent_miss_sequences_split[\"invisible\"])\n",
    "\n",
    "    elif count_event == \"per_frame\":\n",
    "        num_lost_track_miss_vis = len([idx for seq in lost_track_sequences_split[\"visible\"] for idx in seq])\n",
    "        num_lost_track_miss_invis = len([idx for seq in lost_track_sequences_split[\"invisible\"] for idx in seq])\n",
    "        num_inherent_miss_vis = len([idx for seq in inherent_miss_sequences_split[\"visible\"] for idx in seq])\n",
    "        num_inherent_miss_invis = len([idx for seq in inherent_miss_sequences_split[\"invisible\"] for idx in seq])\n",
    "\n",
    "\n",
    "    miss_df = pd.DataFrame(\n",
    "        index=[\"visible\", \"invisible\"], \n",
    "        columns=[\"inherent_miss\", \"lost_track_miss\"]\n",
    "    )\n",
    "    miss_df.loc[\"visible\", \"inherent_miss\"] = num_inherent_miss_vis\n",
    "    miss_df.loc[\"invisible\", \"inherent_miss\"] = num_inherent_miss_invis\n",
    "    miss_df.loc[\"visible\", \"lost_track_miss\"] = num_lost_track_miss_vis\n",
    "    miss_df.loc[\"invisible\", \"lost_track_miss\"] = num_lost_track_miss_invis\n",
    "    miss_df.loc[:, \"total\"] = miss_df.sum(axis=1)\n",
    "    miss_df.loc[\"total\", :] = miss_df.sum(axis=0)\n",
    "    return miss_df\n"
   ]
  },
  {
   "cell_type": "code",
   "execution_count": 79,
   "metadata": {},
   "outputs": [],
   "source": [
    "# contrast and luminosity only need to be looked at if the visbility is high enough\n",
    "\n",
    "from collections import defaultdict\n",
    "\n",
    "\n",
    "def get_sequences_items(sequence, events_df, idx_sequences, keys=[\"vis\", \"contrast\", \"luminosity\", \"area\"]):\n",
    "    items = {key : [] for key in keys}\n",
    "    for idxs in idx_sequences:\n",
    "        first_idx = idxs[0]\n",
    "        for key in keys:\n",
    "            item = item_of_mot_event(sequence, events_df, first_idx, key=key)\n",
    "            items[key].append(item) \n",
    "    return items\n",
    "\n",
    "def split_items_by_vis(items, vis_tresholds = [0.0, 0.1, 0.3, 0.7, 1.0]):\n",
    "    items_per_vis = defaultdict(dict)\n",
    "    for i in range(len(vis_tresholds)-1):\n",
    "        mask = np.logical_and(np.array(items[\"vis\"]) > vis_tresholds[i], np.array(items[\"vis\"]) < vis_tresholds[i+1])\n",
    "        for key in items.keys():\n",
    "            items[key] = np.array(items[key])\n",
    "            items_per_vis[vis_tresholds[i+1]][key] = items[key][mask]\n",
    "    return items_per_vis\n",
    "\n",
    "def split_item_pairs_by_vis(item_pairs, vis_tresholds = [0.0, 0.1, 0.3, 0.7, 1.0]):\n",
    "    \"\"\"\n",
    "    item_pairs: tuple\n",
    "    \"\"\"\n",
    "    split_item_pairs = []\n",
    "    \n",
    "\n",
    "    for items in item_pairs:\n",
    "        items_per_vis = defaultdict(dict)\n",
    "        for i in range(len(vis_tresholds)-1):\n",
    "            mask = np.logical_and(\n",
    "                np.array(item_pairs[0][\"vis\"]) > vis_tresholds[i], \n",
    "                np.array(item_pairs[0][\"vis\"]) < vis_tresholds[i+1]\n",
    "            )\n",
    "            \n",
    "            for key in items.keys():\n",
    "                items[key] = np.array(items[key])\n",
    "                items_per_vis[vis_tresholds[i+1]][key] = items[key][mask]\n",
    "        split_item_pairs.append(items_per_vis)\n",
    "    return split_item_pairs\n",
    "\n"
   ]
  },
  {
   "cell_type": "markdown",
   "metadata": {},
   "source": [
    "# Statistical Error Analysis\n",
    "\n",
    "In order to win the MOT16 tracking challenge, the author of this repo decides first execute a statistical error analysis, in order to identify the opportunities to improve tracking performance.\n",
    "\n",
    "### WHAT kind of errors happen\n",
    "The MOT16 challenge primarily uses the MOTA metric to rank candidates. \n",
    "MOTA is an accumulation of errors of the following categories.\n",
    "\n",
    "| MOT16 Events | description|\n",
    "|-|-|\n",
    "| MATCH | A match between a object and hypothesis was found\n",
    "| SWITCH | A match between a object and hypothesis was found but differs from previous assignment. <br> This is only counted, if one object is assigned to multiple hypothesis ids. It is not counted as a mistake, if the opposite happens, when one hypothesis consists of multiple objects.\n",
    "| MISS |  No match for an object was found\n",
    "| FP | No match for an hypothesis was found (spurious detections)\n",
    "\n",
    "### WHEN does the error happen\n",
    "The first step to identify potential for tracker improvement, is to catch the specific part of the tracker, that is responsible for the error. The author of this repo decides to further split the above defined events, such that they become more useful for error analysis.\n",
    "\n",
    "### HOW OFTEN does the error happen"
   ]
  },
  {
   "cell_type": "code",
   "execution_count": null,
   "metadata": {},
   "outputs": [],
   "source": [
    "miss_analysis_chart(sequence, events_df, lost_track_sequences, inherent_miss_sequences, vis_threshold=0.0, count_event=\"per_sequence\")"
   ]
  },
  {
   "cell_type": "markdown",
   "metadata": {},
   "source": [
    "## **WHY does the error happen**\n",
    "### **Motivation**\n",
    "The endgoal of this analysis is fix the error causes. In order to achieve the author of this repo decides to find ways to make detection misses predictable. This can be achieved by correlation analysis of missed detections with apriori quantifiable variables. If strong correlations between missed detections and apriori quantifiable variables can be established, the tracker can use alternative detection methods for those specific cases.<br>\n",
    "### **t-test**\n",
    "\n"
   ]
  },
  {
   "cell_type": "code",
   "execution_count": null,
   "metadata": {},
   "outputs": [],
   "source": [
    "from scipy.stats import ttest_ind\n",
    "from collections import defaultdict\n",
    "from scipy.stats import ttest_rel\n",
    "\n",
    "\n",
    "def do_t_test(items_group_a, items_group_b, alpha=0.2, alternative='two-sided', dependent_groups=False):\n",
    "    \"\"\"\n",
    "    Arguments\n",
    "    ---------\n",
    "    items_group_a\n",
    "        dict of group a, each key contains the values of a different variable  \n",
    "\n",
    "    items_group_b\n",
    "        dict of group b, each key contains the values of a different variable  \n",
    "\n",
    "    Interpretation\n",
    "    -----------------------\n",
    "    t > 0: mean(a) > mean(b)\n",
    "    t < 0: mean(a) < mean(b)\n",
    "    \"\"\"\n",
    "    t_test_dict = defaultdict(dict)\n",
    "    for (key, item_group_a), (_, item_group_b) in zip(items_group_a.items(), items_group_b.items()):\n",
    "        if dependent_groups:\n",
    "            t, p = ttest_rel(item_group_a, item_group_b, alternative=alternative)   \n",
    "        else:\n",
    "            t, p = ttest_ind(item_group_a, item_group_b, alternative=alternative)\n",
    "        t_test_dict[key][\"t\"] = t\n",
    "        t_test_dict[key][\"p\"] = p\n",
    "\n",
    "        if alternative == 'two-sided':\n",
    "            thresh = alpha / 2\n",
    "        else: \n",
    "            thresh = alpha\n",
    "            \n",
    "        t_test_dict[key][\"significant\"] = p < thresh\n",
    "    return pd.DataFrame(t_test_dict)"
   ]
  },
  {
   "cell_type": "markdown",
   "metadata": {},
   "source": [
    "### Dependent group t-test: Miss"
   ]
  },
  {
   "cell_type": "code",
   "execution_count": 41,
   "metadata": {},
   "outputs": [],
   "source": [
    "last_match_items = get_sequences_items(sequence, events_df, idx_sequences=not_empty_last_match_sequences)\n",
    "lost_track_items = get_sequences_items(sequence, events_df, idx_sequences=lost_track_sequences)\n",
    "do_t_test(last_match_items, lost_track_items, dependent_groups=True)"
   ]
  },
  {
   "cell_type": "code",
   "execution_count": 89,
   "metadata": {},
   "outputs": [
    {
     "data": {
      "text/html": [
       "<div>\n",
       "<style scoped>\n",
       "    .dataframe tbody tr th:only-of-type {\n",
       "        vertical-align: middle;\n",
       "    }\n",
       "\n",
       "    .dataframe tbody tr th {\n",
       "        vertical-align: top;\n",
       "    }\n",
       "\n",
       "    .dataframe thead th {\n",
       "        text-align: right;\n",
       "    }\n",
       "</style>\n",
       "<table border=\"1\" class=\"dataframe\">\n",
       "  <thead>\n",
       "    <tr style=\"text-align: right;\">\n",
       "      <th></th>\n",
       "      <th>vis</th>\n",
       "      <th>contrast</th>\n",
       "      <th>luminosity</th>\n",
       "      <th>area</th>\n",
       "    </tr>\n",
       "  </thead>\n",
       "  <tbody>\n",
       "    <tr>\n",
       "      <th>t</th>\n",
       "      <td>8.349743</td>\n",
       "      <td>2.622564</td>\n",
       "      <td>0.870366</td>\n",
       "      <td>1.082307</td>\n",
       "    </tr>\n",
       "    <tr>\n",
       "      <th>p</th>\n",
       "      <td>0.001125</td>\n",
       "      <td>0.058641</td>\n",
       "      <td>0.433217</td>\n",
       "      <td>0.340001</td>\n",
       "    </tr>\n",
       "    <tr>\n",
       "      <th>significant</th>\n",
       "      <td>True</td>\n",
       "      <td>True</td>\n",
       "      <td>False</td>\n",
       "      <td>False</td>\n",
       "    </tr>\n",
       "  </tbody>\n",
       "</table>\n",
       "</div>"
      ],
      "text/plain": [
       "                  vis  contrast luminosity      area\n",
       "t            8.349743  2.622564   0.870366  1.082307\n",
       "p            0.001125  0.058641   0.433217  0.340001\n",
       "significant      True      True      False     False"
      ]
     },
     "execution_count": 89,
     "metadata": {},
     "output_type": "execute_result"
    }
   ],
   "source": [
    "last_match_items_by_vis, lost_track_items_by_vis = split_item_pairs_by_vis([last_match_items, lost_track_items])\n",
    "do_t_test(last_match_items_by_vis[1], lost_track_items_by_vis[1], dependent_groups=True)"
   ]
  },
  {
   "cell_type": "markdown",
   "metadata": {},
   "source": [
    "### Indepencent Group t-test: Miss"
   ]
  },
  {
   "cell_type": "code",
   "execution_count": 90,
   "metadata": {},
   "outputs": [
    {
     "ename": "KeyboardInterrupt",
     "evalue": "",
     "output_type": "error",
     "traceback": [
      "\u001b[1;31m---------------------------------------------------------------------------\u001b[0m",
      "\u001b[1;31mKeyboardInterrupt\u001b[0m                         Traceback (most recent call last)",
      "\u001b[1;32mc:\\Arthur\\Vorlesungen\\CV3DST\\tracker_challenge\\error_analysis.ipynb Cell 13'\u001b[0m in \u001b[0;36m<cell line: 1>\u001b[1;34m()\u001b[0m\n\u001b[1;32m----> <a href='vscode-notebook-cell:/c%3A/Arthur/Vorlesungen/CV3DST/tracker_challenge/error_analysis.ipynb#ch0000034?line=0'>1</a>\u001b[0m tp_items \u001b[39m=\u001b[39m get_sequences_items(sequence, events_df, idx_sequences\u001b[39m=\u001b[39;49mfind_tp(events_df))\n\u001b[0;32m      <a href='vscode-notebook-cell:/c%3A/Arthur/Vorlesungen/CV3DST/tracker_challenge/error_analysis.ipynb#ch0000034?line=1'>2</a>\u001b[0m miss_items \u001b[39m=\u001b[39m get_sequences_items(sequence, events_df, idx_sequences\u001b[39m=\u001b[39mmiss_sequences)\n\u001b[0;32m      <a href='vscode-notebook-cell:/c%3A/Arthur/Vorlesungen/CV3DST/tracker_challenge/error_analysis.ipynb#ch0000034?line=2'>3</a>\u001b[0m do_t_test(tp_items, miss_items, dependent_groups\u001b[39m=\u001b[39m\u001b[39mFalse\u001b[39;00m)\n",
      "\u001b[1;32mc:\\Arthur\\Vorlesungen\\CV3DST\\tracker_challenge\\error_analysis.ipynb Cell 4'\u001b[0m in \u001b[0;36mget_sequences_items\u001b[1;34m(sequence, events_df, idx_sequences, keys)\u001b[0m\n\u001b[0;32m      <a href='vscode-notebook-cell:/c%3A/Arthur/Vorlesungen/CV3DST/tracker_challenge/error_analysis.ipynb#ch0000003?line=8'>9</a>\u001b[0m     first_idx \u001b[39m=\u001b[39m idxs[\u001b[39m0\u001b[39m]\n\u001b[0;32m     <a href='vscode-notebook-cell:/c%3A/Arthur/Vorlesungen/CV3DST/tracker_challenge/error_analysis.ipynb#ch0000003?line=9'>10</a>\u001b[0m     \u001b[39mfor\u001b[39;00m key \u001b[39min\u001b[39;00m keys:\n\u001b[1;32m---> <a href='vscode-notebook-cell:/c%3A/Arthur/Vorlesungen/CV3DST/tracker_challenge/error_analysis.ipynb#ch0000003?line=10'>11</a>\u001b[0m         item \u001b[39m=\u001b[39m item_of_mot_event(sequence, events_df, first_idx, key\u001b[39m=\u001b[39;49mkey)\n\u001b[0;32m     <a href='vscode-notebook-cell:/c%3A/Arthur/Vorlesungen/CV3DST/tracker_challenge/error_analysis.ipynb#ch0000003?line=11'>12</a>\u001b[0m         items[key]\u001b[39m.\u001b[39mappend(item) \n\u001b[0;32m     <a href='vscode-notebook-cell:/c%3A/Arthur/Vorlesungen/CV3DST/tracker_challenge/error_analysis.ipynb#ch0000003?line=12'>13</a>\u001b[0m \u001b[39mreturn\u001b[39;00m items\n",
      "\u001b[1;32mc:\\Arthur\\Vorlesungen\\CV3DST\\tracker_challenge\\error_analysis.ipynb Cell 3'\u001b[0m in \u001b[0;36mitem_of_mot_event\u001b[1;34m(sequence, events_df, df_idx, key)\u001b[0m\n\u001b[0;32m     <a href='vscode-notebook-cell:/c%3A/Arthur/Vorlesungen/CV3DST/tracker_challenge/error_analysis.ipynb#ch0000002?line=14'>15</a>\u001b[0m     item \u001b[39m=\u001b[39m sequence[frame_id][key]\n\u001b[0;32m     <a href='vscode-notebook-cell:/c%3A/Arthur/Vorlesungen/CV3DST/tracker_challenge/error_analysis.ipynb#ch0000002?line=15'>16</a>\u001b[0m \u001b[39melse\u001b[39;00m:\n\u001b[1;32m---> <a href='vscode-notebook-cell:/c%3A/Arthur/Vorlesungen/CV3DST/tracker_challenge/error_analysis.ipynb#ch0000002?line=16'>17</a>\u001b[0m     item \u001b[39m=\u001b[39m sequence[frame_id][key][oid]\n\u001b[0;32m     <a href='vscode-notebook-cell:/c%3A/Arthur/Vorlesungen/CV3DST/tracker_challenge/error_analysis.ipynb#ch0000002?line=17'>18</a>\u001b[0m \u001b[39mreturn\u001b[39;00m item\n",
      "File \u001b[1;32mc:\\Arthur\\Vorlesungen\\CV3DST\\tracker_challenge\\src\\tracker\\data_track_precomputed.py:150\u001b[0m, in \u001b[0;36mMOT16SequencePrecomputed.__getitem__\u001b[1;34m(self, idx)\u001b[0m\n\u001b[0;32m    <a href='file:///c%3A/Arthur/Vorlesungen/CV3DST/tracker_challenge/src/tracker/data_track_precomputed.py?line=147'>148</a>\u001b[0m \u001b[39mdef\u001b[39;00m \u001b[39m__getitem__\u001b[39m(\u001b[39mself\u001b[39m, idx):\n\u001b[0;32m    <a href='file:///c%3A/Arthur/Vorlesungen/CV3DST/tracker_challenge/src/tracker/data_track_precomputed.py?line=148'>149</a>\u001b[0m     \u001b[39m# tracking data\u001b[39;00m\n\u001b[1;32m--> <a href='file:///c%3A/Arthur/Vorlesungen/CV3DST/tracker_challenge/src/tracker/data_track_precomputed.py?line=149'>150</a>\u001b[0m     frame \u001b[39m=\u001b[39m \u001b[39msuper\u001b[39;49m()\u001b[39m.\u001b[39;49m\u001b[39m__getitem__\u001b[39;49m(idx)\n\u001b[0;32m    <a href='file:///c%3A/Arthur/Vorlesungen/CV3DST/tracker_challenge/src/tracker/data_track_precomputed.py?line=150'>151</a>\u001b[0m     frame\u001b[39m.\u001b[39mupdate(\u001b[39mself\u001b[39m\u001b[39m.\u001b[39m_sequence_detection[idx])\n\u001b[0;32m    <a href='file:///c%3A/Arthur/Vorlesungen/CV3DST/tracker_challenge/src/tracker/data_track_precomputed.py?line=152'>153</a>\u001b[0m     \u001b[39m# precomputed detection / segmentation\u001b[39;00m\n",
      "File \u001b[1;32mc:\\Arthur\\Vorlesungen\\CV3DST\\tracker_challenge\\src\\tracker\\data_track.py:193\u001b[0m, in \u001b[0;36mMOT16Sequence.__getitem__\u001b[1;34m(self, idx)\u001b[0m\n\u001b[0;32m    <a href='file:///c%3A/Arthur/Vorlesungen/CV3DST/tracker_challenge/src/tracker/data_track.py?line=190'>191</a>\u001b[0m \u001b[39m\"\"\"Return the ith image converted to blob\"\"\"\u001b[39;00m\n\u001b[0;32m    <a href='file:///c%3A/Arthur/Vorlesungen/CV3DST/tracker_challenge/src/tracker/data_track.py?line=191'>192</a>\u001b[0m frame \u001b[39m=\u001b[39m \u001b[39mself\u001b[39m\u001b[39m.\u001b[39mdata[idx]\n\u001b[1;32m--> <a href='file:///c%3A/Arthur/Vorlesungen/CV3DST/tracker_challenge/src/tracker/data_track.py?line=192'>193</a>\u001b[0m img \u001b[39m=\u001b[39m Image\u001b[39m.\u001b[39;49mopen(frame[\u001b[39m\"\u001b[39;49m\u001b[39mim_path\u001b[39;49m\u001b[39m\"\u001b[39;49m])\u001b[39m.\u001b[39;49mconvert(\u001b[39m\"\u001b[39;49m\u001b[39mRGB\u001b[39;49m\u001b[39m\"\u001b[39;49m)\n\u001b[0;32m    <a href='file:///c%3A/Arthur/Vorlesungen/CV3DST/tracker_challenge/src/tracker/data_track.py?line=193'>194</a>\u001b[0m img \u001b[39m=\u001b[39m \u001b[39mself\u001b[39m\u001b[39m.\u001b[39mtransforms(img)\n\u001b[0;32m    <a href='file:///c%3A/Arthur/Vorlesungen/CV3DST/tracker_challenge/src/tracker/data_track.py?line=194'>195</a>\u001b[0m frame\u001b[39m.\u001b[39mupdate({\u001b[39m\"\u001b[39m\u001b[39mimg\u001b[39m\u001b[39m\"\u001b[39m: img})\n",
      "File \u001b[1;32m~\\anaconda3\\envs\\DL_env\\lib\\site-packages\\PIL\\Image.py:889\u001b[0m, in \u001b[0;36mImage.convert\u001b[1;34m(self, mode, matrix, dither, palette, colors)\u001b[0m\n\u001b[0;32m    <a href='file:///c%3A/Users/arthu/anaconda3/envs/DL_env/lib/site-packages/PIL/Image.py?line=846'>847</a>\u001b[0m \u001b[39mdef\u001b[39;00m \u001b[39mconvert\u001b[39m(\u001b[39mself\u001b[39m, mode\u001b[39m=\u001b[39m\u001b[39mNone\u001b[39;00m, matrix\u001b[39m=\u001b[39m\u001b[39mNone\u001b[39;00m, dither\u001b[39m=\u001b[39m\u001b[39mNone\u001b[39;00m, palette\u001b[39m=\u001b[39mWEB, colors\u001b[39m=\u001b[39m\u001b[39m256\u001b[39m):\n\u001b[0;32m    <a href='file:///c%3A/Users/arthu/anaconda3/envs/DL_env/lib/site-packages/PIL/Image.py?line=847'>848</a>\u001b[0m     \u001b[39m\"\"\"\u001b[39;00m\n\u001b[0;32m    <a href='file:///c%3A/Users/arthu/anaconda3/envs/DL_env/lib/site-packages/PIL/Image.py?line=848'>849</a>\u001b[0m \u001b[39m    Returns a converted copy of this image. For the \"P\" mode, this\u001b[39;00m\n\u001b[0;32m    <a href='file:///c%3A/Users/arthu/anaconda3/envs/DL_env/lib/site-packages/PIL/Image.py?line=849'>850</a>\u001b[0m \u001b[39m    method translates pixels through the palette.  If mode is\u001b[39;00m\n\u001b[1;32m   (...)\u001b[0m\n\u001b[0;32m    <a href='file:///c%3A/Users/arthu/anaconda3/envs/DL_env/lib/site-packages/PIL/Image.py?line=885'>886</a>\u001b[0m \u001b[39m    :returns: An :py:class:`~PIL.Image.Image` object.\u001b[39;00m\n\u001b[0;32m    <a href='file:///c%3A/Users/arthu/anaconda3/envs/DL_env/lib/site-packages/PIL/Image.py?line=886'>887</a>\u001b[0m \u001b[39m    \"\"\"\u001b[39;00m\n\u001b[1;32m--> <a href='file:///c%3A/Users/arthu/anaconda3/envs/DL_env/lib/site-packages/PIL/Image.py?line=888'>889</a>\u001b[0m     \u001b[39mself\u001b[39;49m\u001b[39m.\u001b[39;49mload()\n\u001b[0;32m    <a href='file:///c%3A/Users/arthu/anaconda3/envs/DL_env/lib/site-packages/PIL/Image.py?line=890'>891</a>\u001b[0m     has_transparency \u001b[39m=\u001b[39m \u001b[39mself\u001b[39m\u001b[39m.\u001b[39minfo\u001b[39m.\u001b[39mget(\u001b[39m\"\u001b[39m\u001b[39mtransparency\u001b[39m\u001b[39m\"\u001b[39m) \u001b[39mis\u001b[39;00m \u001b[39mnot\u001b[39;00m \u001b[39mNone\u001b[39;00m\n\u001b[0;32m    <a href='file:///c%3A/Users/arthu/anaconda3/envs/DL_env/lib/site-packages/PIL/Image.py?line=891'>892</a>\u001b[0m     \u001b[39mif\u001b[39;00m \u001b[39mnot\u001b[39;00m mode \u001b[39mand\u001b[39;00m \u001b[39mself\u001b[39m\u001b[39m.\u001b[39mmode \u001b[39m==\u001b[39m \u001b[39m\"\u001b[39m\u001b[39mP\u001b[39m\u001b[39m\"\u001b[39m:\n\u001b[0;32m    <a href='file:///c%3A/Users/arthu/anaconda3/envs/DL_env/lib/site-packages/PIL/Image.py?line=892'>893</a>\u001b[0m         \u001b[39m# determine default mode\u001b[39;00m\n",
      "File \u001b[1;32m~\\anaconda3\\envs\\DL_env\\lib\\site-packages\\PIL\\ImageFile.py:253\u001b[0m, in \u001b[0;36mImageFile.load\u001b[1;34m(self)\u001b[0m\n\u001b[0;32m    <a href='file:///c%3A/Users/arthu/anaconda3/envs/DL_env/lib/site-packages/PIL/ImageFile.py?line=246'>247</a>\u001b[0m         \u001b[39mraise\u001b[39;00m \u001b[39mOSError\u001b[39;00m(\n\u001b[0;32m    <a href='file:///c%3A/Users/arthu/anaconda3/envs/DL_env/lib/site-packages/PIL/ImageFile.py?line=247'>248</a>\u001b[0m             \u001b[39m\"\u001b[39m\u001b[39mimage file is truncated \u001b[39m\u001b[39m\"\u001b[39m\n\u001b[0;32m    <a href='file:///c%3A/Users/arthu/anaconda3/envs/DL_env/lib/site-packages/PIL/ImageFile.py?line=248'>249</a>\u001b[0m             \u001b[39mf\u001b[39m\u001b[39m\"\u001b[39m\u001b[39m(\u001b[39m\u001b[39m{\u001b[39;00m\u001b[39mlen\u001b[39m(b)\u001b[39m}\u001b[39;00m\u001b[39m bytes not processed)\u001b[39m\u001b[39m\"\u001b[39m\n\u001b[0;32m    <a href='file:///c%3A/Users/arthu/anaconda3/envs/DL_env/lib/site-packages/PIL/ImageFile.py?line=249'>250</a>\u001b[0m         )\n\u001b[0;32m    <a href='file:///c%3A/Users/arthu/anaconda3/envs/DL_env/lib/site-packages/PIL/ImageFile.py?line=251'>252</a>\u001b[0m b \u001b[39m=\u001b[39m b \u001b[39m+\u001b[39m s\n\u001b[1;32m--> <a href='file:///c%3A/Users/arthu/anaconda3/envs/DL_env/lib/site-packages/PIL/ImageFile.py?line=252'>253</a>\u001b[0m n, err_code \u001b[39m=\u001b[39m decoder\u001b[39m.\u001b[39;49mdecode(b)\n\u001b[0;32m    <a href='file:///c%3A/Users/arthu/anaconda3/envs/DL_env/lib/site-packages/PIL/ImageFile.py?line=253'>254</a>\u001b[0m \u001b[39mif\u001b[39;00m n \u001b[39m<\u001b[39m \u001b[39m0\u001b[39m:\n\u001b[0;32m    <a href='file:///c%3A/Users/arthu/anaconda3/envs/DL_env/lib/site-packages/PIL/ImageFile.py?line=254'>255</a>\u001b[0m     \u001b[39mbreak\u001b[39;00m\n",
      "\u001b[1;31mKeyboardInterrupt\u001b[0m: "
     ]
    }
   ],
   "source": [
    "tp_items = get_sequences_items(sequence, events_df, idx_sequences=find_tp(events_df))\n",
    "miss_items = get_sequences_items(sequence, events_df, idx_sequences=miss_sequences)\n",
    "do_t_test(tp_items, miss_items, dependent_groups=False)"
   ]
  },
  {
   "cell_type": "markdown",
   "metadata": {},
   "source": [
    "### Independent Group Test: FP\n"
   ]
  },
  {
   "cell_type": "code",
   "execution_count": null,
   "metadata": {},
   "outputs": [],
   "source": [
    "fp_sequences"
   ]
  },
  {
   "cell_type": "code",
   "execution_count": 51,
   "metadata": {},
   "outputs": [
    {
     "ename": "NameError",
     "evalue": "name 'tp_items' is not defined",
     "output_type": "error",
     "traceback": [
      "\u001b[1;31m---------------------------------------------------------------------------\u001b[0m",
      "\u001b[1;31mNameError\u001b[0m                                 Traceback (most recent call last)",
      "\u001b[1;32mc:\\Arthur\\Vorlesungen\\CV3DST\\tracker_challenge\\error_analysis.ipynb Cell 13'\u001b[0m in \u001b[0;36m<cell line: 1>\u001b[1;34m()\u001b[0m\n\u001b[1;32m----> <a href='vscode-notebook-cell:/c%3A/Arthur/Vorlesungen/CV3DST/tracker_challenge/error_analysis.ipynb#ch0000008?line=0'>1</a>\u001b[0m tp_items_by_vis \u001b[39m=\u001b[39m split_items_by_vis(tp_items)\n\u001b[0;32m      <a href='vscode-notebook-cell:/c%3A/Arthur/Vorlesungen/CV3DST/tracker_challenge/error_analysis.ipynb#ch0000008?line=1'>2</a>\u001b[0m miss_items_by_vis \u001b[39m=\u001b[39m split_items_by_vis(miss_items)\n",
      "\u001b[1;31mNameError\u001b[0m: name 'tp_items' is not defined"
     ]
    }
   ],
   "source": [
    "tp_items_by_vis = split_items_by_vis(tp_items)\n",
    "miss_items_by_vis = split_items_by_vis(miss_items)"
   ]
  },
  {
   "cell_type": "markdown",
   "metadata": {},
   "source": [
    "### Correlation Analysis\n",
    "- visibility-area<br> The correlation between visibility"
   ]
  },
  {
   "cell_type": "code",
   "execution_count": 191,
   "metadata": {},
   "outputs": [
    {
     "data": {
      "text/html": [
       "<div>\n",
       "<style scoped>\n",
       "    .dataframe tbody tr th:only-of-type {\n",
       "        vertical-align: middle;\n",
       "    }\n",
       "\n",
       "    .dataframe tbody tr th {\n",
       "        vertical-align: top;\n",
       "    }\n",
       "\n",
       "    .dataframe thead th {\n",
       "        text-align: right;\n",
       "    }\n",
       "</style>\n",
       "<table border=\"1\" class=\"dataframe\">\n",
       "  <thead>\n",
       "    <tr style=\"text-align: right;\">\n",
       "      <th></th>\n",
       "      <th>vis</th>\n",
       "      <th>contrast</th>\n",
       "      <th>luminosity</th>\n",
       "      <th>area</th>\n",
       "    </tr>\n",
       "  </thead>\n",
       "  <tbody>\n",
       "    <tr>\n",
       "      <th>vis</th>\n",
       "      <td>1.000000</td>\n",
       "      <td>-0.002548</td>\n",
       "      <td>0.124465</td>\n",
       "      <td>0.247516</td>\n",
       "    </tr>\n",
       "    <tr>\n",
       "      <th>contrast</th>\n",
       "      <td>-0.002548</td>\n",
       "      <td>1.000000</td>\n",
       "      <td>0.810561</td>\n",
       "      <td>-0.311167</td>\n",
       "    </tr>\n",
       "    <tr>\n",
       "      <th>luminosity</th>\n",
       "      <td>0.124465</td>\n",
       "      <td>0.810561</td>\n",
       "      <td>1.000000</td>\n",
       "      <td>-0.229940</td>\n",
       "    </tr>\n",
       "    <tr>\n",
       "      <th>area</th>\n",
       "      <td>0.247516</td>\n",
       "      <td>-0.311167</td>\n",
       "      <td>-0.229940</td>\n",
       "      <td>1.000000</td>\n",
       "    </tr>\n",
       "  </tbody>\n",
       "</table>\n",
       "</div>"
      ],
      "text/plain": [
       "                 vis  contrast  luminosity      area\n",
       "vis         1.000000 -0.002548    0.124465  0.247516\n",
       "contrast   -0.002548  1.000000    0.810561 -0.311167\n",
       "luminosity  0.124465  0.810561    1.000000 -0.229940\n",
       "area        0.247516 -0.311167   -0.229940  1.000000"
      ]
     },
     "execution_count": 191,
     "metadata": {},
     "output_type": "execute_result"
    }
   ],
   "source": [
    "miss_correlation_df = pd.DataFrame(\n",
    "    index=miss_items.keys(), \n",
    "    columns=miss_items.keys(), \n",
    "    data=np.corrcoef(list(miss_items.values())\n",
    "))\n",
    "miss_correlation_df"
   ]
  },
  {
   "cell_type": "code",
   "execution_count": 190,
   "metadata": {},
   "outputs": [
    {
     "data": {
      "text/html": [
       "<div>\n",
       "<style scoped>\n",
       "    .dataframe tbody tr th:only-of-type {\n",
       "        vertical-align: middle;\n",
       "    }\n",
       "\n",
       "    .dataframe tbody tr th {\n",
       "        vertical-align: top;\n",
       "    }\n",
       "\n",
       "    .dataframe thead th {\n",
       "        text-align: right;\n",
       "    }\n",
       "</style>\n",
       "<table border=\"1\" class=\"dataframe\">\n",
       "  <thead>\n",
       "    <tr style=\"text-align: right;\">\n",
       "      <th></th>\n",
       "      <th>vis</th>\n",
       "      <th>contrast</th>\n",
       "      <th>luminosity</th>\n",
       "      <th>area</th>\n",
       "    </tr>\n",
       "  </thead>\n",
       "  <tbody>\n",
       "    <tr>\n",
       "      <th>vis</th>\n",
       "      <td>1.000000</td>\n",
       "      <td>-0.094326</td>\n",
       "      <td>0.032686</td>\n",
       "      <td>0.248366</td>\n",
       "    </tr>\n",
       "    <tr>\n",
       "      <th>contrast</th>\n",
       "      <td>-0.094326</td>\n",
       "      <td>1.000000</td>\n",
       "      <td>0.837481</td>\n",
       "      <td>-0.332502</td>\n",
       "    </tr>\n",
       "    <tr>\n",
       "      <th>luminosity</th>\n",
       "      <td>0.032686</td>\n",
       "      <td>0.837481</td>\n",
       "      <td>1.000000</td>\n",
       "      <td>-0.241056</td>\n",
       "    </tr>\n",
       "    <tr>\n",
       "      <th>area</th>\n",
       "      <td>0.248366</td>\n",
       "      <td>-0.332502</td>\n",
       "      <td>-0.241056</td>\n",
       "      <td>1.000000</td>\n",
       "    </tr>\n",
       "  </tbody>\n",
       "</table>\n",
       "</div>"
      ],
      "text/plain": [
       "                 vis  contrast  luminosity      area\n",
       "vis         1.000000 -0.094326    0.032686  0.248366\n",
       "contrast   -0.094326  1.000000    0.837481 -0.332502\n",
       "luminosity  0.032686  0.837481    1.000000 -0.241056\n",
       "area        0.248366 -0.332502   -0.241056  1.000000"
      ]
     },
     "execution_count": 190,
     "metadata": {},
     "output_type": "execute_result"
    }
   ],
   "source": [
    "tp_correlation_df = pd.DataFrame(\n",
    "    index=tp_items.keys(), \n",
    "    columns=tp_items.keys(), \n",
    "    data=np.corrcoef(list(tp_items.values())\n",
    "    ))\n",
    "tp_correlation_df"
   ]
  }
 ],
 "metadata": {
  "interpreter": {
   "hash": "baed9b6b162aa45400c1f6f8e8b953cc621cc8f25bcb3799f89f5a2556aea4e5"
  },
  "kernelspec": {
   "display_name": "Python (DL_env)",
   "language": "python",
   "name": "dl_env"
  },
  "language_info": {
   "codemirror_mode": {
    "name": "ipython",
    "version": 3
   },
   "file_extension": ".py",
   "mimetype": "text/x-python",
   "name": "python",
   "nbconvert_exporter": "python",
   "pygments_lexer": "ipython3",
   "version": "3.9.7"
  },
  "orig_nbformat": 4
 },
 "nbformat": 4,
 "nbformat_minor": 2
}
