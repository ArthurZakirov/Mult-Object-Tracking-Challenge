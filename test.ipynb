{
 "cells": [
  {
   "cell_type": "code",
   "execution_count": 1,
   "metadata": {},
   "outputs": [
    {
     "name": "stderr",
     "output_type": "stream",
     "text": [
      "Using cache found in C:\\Users\\arthu/.cache\\torch\\hub\\facebookresearch_detr_main\n"
     ]
    }
   ],
   "source": [
    "import torch\n",
    "import numpy as np\n",
    "import matplotlib.pyplot as plt\n",
    "from matplotlib import cm\n",
    "import torchvision\n",
    "from matplotlib.patches import Rectangle\n",
    "from src.detector.utils import mask_convert\n",
    "from src.detector.data_obj_detect import MOT16ObjDetect\n",
    "from src.detector.utils import obj_detect_transforms\n",
    "from src.detector.object_detector import DETR\n",
    "\n",
    "dataset_test = MOT16ObjDetect(\n",
    "        root=\"data/MOT16\",\n",
    "        split=\"train\",\n",
    "        sparse_version=False,\n",
    "        transforms=obj_detect_transforms(train=False),\n",
    "        vis_threshold=0.0,\n",
    "        segmentation=False,\n",
    "    )\n",
    "img, annotation = dataset_test[0]\n",
    "\n",
    "\n",
    "# obj_detect = torch.load(\"models/obj_detect/default_maskrcnn.pth\")\n",
    "# obj_detect.eval()\n",
    "# obj_detect.roi_heads.nms_thresh = 1\n",
    "# with torch.no_grad():\n",
    "#     det = obj_detect([img])[0]\n",
    "\n",
    "\n",
    "\n",
    "\n",
    "\n",
    "\n"
   ]
  },
  {
   "cell_type": "code",
   "execution_count": 7,
   "metadata": {},
   "outputs": [
    {
     "data": {
      "text/plain": [
       "torch.Size([15, 512])"
      ]
     },
     "execution_count": 7,
     "metadata": {},
     "output_type": "execute_result"
    }
   ],
   "source": [
    "import torch\n",
    "path = f\"data/precomputed_detection/default/MOT16-02/reid/reid_on_det/{1:06d}.pth\"\n",
    "gt = torch.load(path)\n",
    "gt.shape"
   ]
  },
  {
   "cell_type": "code",
   "execution_count": 9,
   "metadata": {},
   "outputs": [
    {
     "data": {
      "text/plain": [
       "tensor([ True,  True, False, False])"
      ]
     },
     "execution_count": 9,
     "metadata": {},
     "output_type": "execute_result"
    }
   ],
   "source": [
    "torch.isin(torch.tensor([0, 1, 3, 4]), torch.tensor([0, 1]))"
   ]
  }
 ],
 "metadata": {
  "interpreter": {
   "hash": "baed9b6b162aa45400c1f6f8e8b953cc621cc8f25bcb3799f89f5a2556aea4e5"
  },
  "kernelspec": {
   "display_name": "Python (DL_env)",
   "language": "python",
   "name": "dl_env"
  },
  "language_info": {
   "codemirror_mode": {
    "name": "ipython",
    "version": 3
   },
   "file_extension": ".py",
   "mimetype": "text/x-python",
   "name": "python",
   "nbconvert_exporter": "python",
   "pygments_lexer": "ipython3",
   "version": "3.9.7"
  },
  "orig_nbformat": 4
 },
 "nbformat": 4,
 "nbformat_minor": 2
}
