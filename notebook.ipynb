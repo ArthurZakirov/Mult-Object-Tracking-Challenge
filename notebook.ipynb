{
 "cells": [
  {
   "cell_type": "code",
   "execution_count": 1,
   "metadata": {},
   "outputs": [],
   "source": [
    "import torch\n",
    "import torchvision\n",
    "maskrcnn = torchvision.models.detection.maskrcnn_resnet50_fpn(pretrained=True)\n",
    "fasterrcnn = torchvision.models.detection.fasterrcnn_resnet50_fpn(pretrained=True)\n"
   ]
  },
  {
   "cell_type": "code",
   "execution_count": 9,
   "metadata": {},
   "outputs": [],
   "source": [
    "from argparse import Namespace \n",
    "import torch\n",
    "import numpy as np\n",
    "from torch.utils.data import DataLoader\n",
    "from src.detector.data_obj_detect import MOT16ObjDetect\n",
    "from src.detector.utils import obj_detect_transforms\n",
    "\n",
    "args = Namespace()\n",
    "args.data_root_dir = \"data/MOT16/train\"\n",
    "args.vis_threshold = 0.25\n",
    "args.num_workers = 0\n",
    "args.batch_size = 2\n",
    "\n",
    "dataset_test = MOT16ObjDetect(\n",
    "        root=args.data_root_dir,\n",
    "        transforms=obj_detect_transforms(train=False),\n",
    "        vis_threshold=args.vis_threshold,\n",
    "        segmentation=True\n",
    "    )\n",
    "\n",
    "data_loader_test = DataLoader(\n",
    "    dataset_test,\n",
    "    batch_size=args.batch_size,\n",
    "    shuffle=False,\n",
    "    num_workers=args.num_workers,\n",
    "    collate_fn=lambda batch: tuple(zip(*batch)),\n",
    ")"
   ]
  },
  {
   "cell_type": "code",
   "execution_count": 16,
   "metadata": {},
   "outputs": [],
   "source": [
    "images, targets = next(iter(data_loader_test))"
   ]
  },
  {
   "cell_type": "code",
   "execution_count": 18,
   "metadata": {},
   "outputs": [
    {
     "data": {
      "text/plain": [
       "dict_keys(['boxes', 'labels', 'image_id', 'area', 'iscrowd', 'visibilities', 'masks'])"
      ]
     },
     "execution_count": 18,
     "metadata": {},
     "output_type": "execute_result"
    }
   ],
   "source": [
    "targets[0].keys()"
   ]
  },
  {
   "cell_type": "code",
   "execution_count": 9,
   "metadata": {},
   "outputs": [
    {
     "ename": "NameError",
     "evalue": "name 'targets' is not defined",
     "output_type": "error",
     "traceback": [
      "\u001b[1;31m---------------------------------------------------------------------------\u001b[0m",
      "\u001b[1;31mNameError\u001b[0m                                 Traceback (most recent call last)",
      "\u001b[1;32mc:\\Arthur\\Vorlesungen\\CV3DST\\tracker_challenge\\notebook.ipynb Cell 4'\u001b[0m in \u001b[0;36m<cell line: 7>\u001b[1;34m()\u001b[0m\n\u001b[0;32m      <a href='vscode-notebook-cell:/c%3A/Arthur/Vorlesungen/CV3DST/tracker_challenge/notebook.ipynb#ch0000006?line=2'>3</a>\u001b[0m \u001b[39mfrom\u001b[39;00m \u001b[39msrc\u001b[39;00m\u001b[39m.\u001b[39;00m\u001b[39mdetector\u001b[39;00m\u001b[39m.\u001b[39;00m\u001b[39mutils\u001b[39;00m \u001b[39mimport\u001b[39;00m mask_convert\n\u001b[0;32m      <a href='vscode-notebook-cell:/c%3A/Arthur/Vorlesungen/CV3DST/tracker_challenge/notebook.ipynb#ch0000006?line=4'>5</a>\u001b[0m \u001b[39mid\u001b[39m \u001b[39m=\u001b[39m \u001b[39m1\u001b[39m\n\u001b[1;32m----> <a href='vscode-notebook-cell:/c%3A/Arthur/Vorlesungen/CV3DST/tracker_challenge/notebook.ipynb#ch0000006?line=6'>7</a>\u001b[0m boxes \u001b[39m=\u001b[39m targets[\u001b[39m0\u001b[39m][\u001b[39m\"\u001b[39m\u001b[39mboxes\u001b[39m\u001b[39m\"\u001b[39m][[\u001b[39mid\u001b[39m]]\n\u001b[0;32m      <a href='vscode-notebook-cell:/c%3A/Arthur/Vorlesungen/CV3DST/tracker_challenge/notebook.ipynb#ch0000006?line=7'>8</a>\u001b[0m boxes \u001b[39m=\u001b[39m ops\u001b[39m.\u001b[39mbox_convert(boxes, \u001b[39m\"\u001b[39m\u001b[39mxyxy\u001b[39m\u001b[39m\"\u001b[39m, \u001b[39m\"\u001b[39m\u001b[39mxywh\u001b[39m\u001b[39m\"\u001b[39m)\n\u001b[0;32m      <a href='vscode-notebook-cell:/c%3A/Arthur/Vorlesungen/CV3DST/tracker_challenge/notebook.ipynb#ch0000006?line=8'>9</a>\u001b[0m instance_masks \u001b[39m=\u001b[39m targets[\u001b[39m0\u001b[39m][\u001b[39m\"\u001b[39m\u001b[39mmasks\u001b[39m\u001b[39m\"\u001b[39m]\n",
      "\u001b[1;31mNameError\u001b[0m: name 'targets' is not defined"
     ]
    }
   ],
   "source": [
    "import matplotlib.pyplot as plt\n",
    "import torchvision.ops as ops\n",
    "from src.detector.utils import mask_convert\n",
    "\n",
    "id = 1\n",
    "\n",
    "boxes = targets[0][\"boxes\"][[id]]\n",
    "boxes = ops.box_convert(boxes, \"xyxy\", \"xywh\")\n",
    "instance_masks = targets[0][\"masks\"]\n",
    "image = images[0]\n",
    "\n",
    "#class_masks = (mask_convert(instance_masks, \"scalar\", \"binary\") != 0).float().sum(dim = 0)\n",
    "\n",
    "\n",
    "fig, ax = plt.subplots()\n",
    "ax.imshow(instance_masks[id])\n",
    "for box in boxes:\n",
    "    ax.add_patch(plt.Rectangle(box[:2], box[2], box[3], fill=False))"
   ]
  },
  {
   "cell_type": "code",
   "execution_count": 77,
   "metadata": {},
   "outputs": [],
   "source": [
    "from src.detector.utils import mask_convert\n",
    "from src.utils.torch_utils import dict2keys_and_items\n",
    "from src.tracker.data_track import MOT16Sequences\n",
    "\n",
    "\n",
    "\n",
    "seqs = MOT16Sequences(root_dir=\"data/MOT16\", dataset=\"MOT16-val\", vis_threshold=0.0, segmentation=False)\n"
   ]
  },
  {
   "cell_type": "code",
   "execution_count": 3,
   "metadata": {},
   "outputs": [],
   "source": [
    "import torch\n",
    "path = \"data/precomputed_detection/chair/preprocessed_data_train_2.pth\"\n",
    "db = torch.load(path)"
   ]
  },
  {
   "cell_type": "code",
   "execution_count": null,
   "metadata": {},
   "outputs": [],
   "source": [
    "\n",
    "##################################################\n",
    "# TOOOOOOOOOOOOOOO DOOOOOOOOOOOOOOOOOOOOOOOO\n",
    "###################################################\n",
    "\n",
    "########################################################\n",
    "# in MOT16SequencePrecomputed eine option für reid einfügen\n",
    "# if use_reid: -> frame[\"reid\"] = reid -> return reid"
   ]
  },
  {
   "cell_type": "code",
   "execution_count": null,
   "metadata": {},
   "outputs": [],
   "source": [
    "import torch.nn as nn\n",
    "\n",
    "class M(nn.Module):\n",
    "    def __init__(self):\n",
    "        super().__init__()"
   ]
  },
  {
   "cell_type": "code",
   "execution_count": 13,
   "metadata": {},
   "outputs": [
    {
     "name": "stderr",
     "output_type": "stream",
     "text": [
      "seqs: 100%|██████████| 7/7 [00:06<00:00,  1.00it/s]\n"
     ]
    }
   ],
   "source": [
    "\n",
    "# write existing database to my folder structure\n",
    "import os\n",
    "from src.utils.file_utils import ensure_dir\n",
    "from src.tracker.data_track import MOT16Sequence\n",
    "from tqdm import tqdm\n",
    "dir = \"data/precomputed_detection/default\"\n",
    "\n",
    "for seq_name in tqdm(db.keys(), desc=\"seqs\"):\n",
    "    dets = []\n",
    "    for frame_id, frame in enumerate(db[seq_name], start=1):\n",
    "        det = {\"boxes\": frame[\"det\"][\"boxes\"], \"scores\": frame[\"det\"][\"scores\"]}\n",
    "        dets.append(det)\n",
    "        reid_on_gt = frame[\"gt\"][\"reid\"]\n",
    "        reid_on_det = frame[\"det\"][\"reid\"]\n",
    "        reid_on_gt_path = os.path.join(dir, seq_name, \"reid\", \"reid_on_gt\", f\"{frame_id:06d}.pth\")\n",
    "        reid_on_det_path = os.path.join(dir, seq_name, \"reid\", \"reid_on_det\", f\"{frame_id:06d}.pth\")\n",
    "        ensure_dir(reid_on_gt_path)\n",
    "        ensure_dir(reid_on_det_path)\n",
    "        torch.save(reid_on_gt, reid_on_gt_path)\n",
    "        torch.save(reid_on_det, reid_on_det_path)\n",
    "\n",
    "    det_path = os.path.join(dir, seq_name, \"detection.pth\")\n",
    "    ensure_dir(det_path)\n",
    "    torch.save(dets, det_path)\n",
    "\n",
    "        \n",
    "    "
   ]
  }
 ],
 "metadata": {
  "interpreter": {
   "hash": "baed9b6b162aa45400c1f6f8e8b953cc621cc8f25bcb3799f89f5a2556aea4e5"
  },
  "kernelspec": {
   "display_name": "Python 3.9.7 ('DL_env')",
   "language": "python",
   "name": "python3"
  },
  "language_info": {
   "codemirror_mode": {
    "name": "ipython",
    "version": 3
   },
   "file_extension": ".py",
   "mimetype": "text/x-python",
   "name": "python",
   "nbconvert_exporter": "python",
   "pygments_lexer": "ipython3",
   "version": "3.9.7"
  },
  "orig_nbformat": 4
 },
 "nbformat": 4,
 "nbformat_minor": 2
}
